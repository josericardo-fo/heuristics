{
 "cells": [
  {
   "cell_type": "markdown",
   "id": "6e1ff8be",
   "metadata": {},
   "source": [
    "# Algoritmos Genéticos"
   ]
  },
  {
   "cell_type": "code",
   "execution_count": null,
   "id": "94f96ada",
   "metadata": {},
   "outputs": [],
   "source": [
    "%pip install mealpy --quiet"
   ]
  },
  {
   "cell_type": "markdown",
   "id": "cf935f67",
   "metadata": {},
   "source": [
    "## Parte 1\n",
    "Adapte o código pro algoritmo genético para representar a solução em formato binário."
   ]
  },
  {
   "cell_type": "code",
   "execution_count": null,
   "id": "e81d5b77",
   "metadata": {},
   "outputs": [],
   "source": [
    "from mealpy import FloatVar\n",
    "from mealpy.evolutionary_based.GA import BaseGA\n",
    "import numpy as np\n",
    "\n",
    "values = np.array([3, 6, 16, 9, 7, 8, 5, 11, 13, 14])\n",
    "weights = np.array([8, 4, 7, 2, 6, 10, 3, 5, 11, 9])\n",
    "W = 30\n",
    "n = len(values)\n",
    "\n",
    "def ativacao(solution):\n",
    "    x = np.round(solution)\n",
    "    total_values = np.dot(x, values)\n",
    "    total_weights = np.dot(x, weights)\n",
    "\n",
    "    penalty = 100 * max(0, total_weights - W)\n",
    "\n",
    "    return - total_values + penalty\n",
    "\n",
    "problem_dict = {\n",
    "    \"obj_func\": ativacao,\n",
    "    \"bounds\": FloatVar(lb=[0] * n, ub=[1] * n, name=\"delta\"),\n",
    "    \"minmax\": \"min\",\n",
    "}"
   ]
  },
  {
   "cell_type": "markdown",
   "id": "7ccf272a",
   "metadata": {},
   "source": [
    "## Parte 2\n",
    "Execute o algoritmo e colete as soluções com as configurações com a seleção de indivíduos por torneio."
   ]
  },
  {
   "cell_type": "markdown",
   "id": "379f38db",
   "metadata": {},
   "source": [
    "### Experimento 1: Exploração Inicial"
   ]
  },
  {
   "cell_type": "code",
   "execution_count": null,
   "id": "1b155051",
   "metadata": {},
   "outputs": [],
   "source": [
    "model = BaseGA(pop_size=200, epoch=100, pm=0.05, pc=0.7)\n",
    "ag_best = (model.solve(problem_dict))\n",
    "print(f\"Solution: {np.round(ag_best.solution)}, Fitness: {ag_best.target.fitness}\")"
   ]
  },
  {
   "cell_type": "markdown",
   "id": "50cc8550",
   "metadata": {},
   "source": [
    "### Experimento 2: Exploração e Intensificação Equilibrada"
   ]
  },
  {
   "cell_type": "code",
   "execution_count": null,
   "id": "fc51509b",
   "metadata": {},
   "outputs": [],
   "source": [
    "model = BaseGA(pop_size=150, epoch=75, pm=0.02, pc=0.85)\n",
    "ag_best = (model.solve(problem_dict))\n",
    "print(f\"Solution: {np.round(ag_best.solution)}, Fitness: {ag_best.target.fitness}\")"
   ]
  },
  {
   "cell_type": "markdown",
   "id": "5cde97d3",
   "metadata": {},
   "source": [
    "### Experimento 3:"
   ]
  },
  {
   "cell_type": "code",
   "execution_count": null,
   "id": "1f923cb0",
   "metadata": {},
   "outputs": [],
   "source": [
    "model = BaseGA(pop_size=300, epoch=150, pm=0.1, pc=0.9)\n",
    "ag_best = (model.solve(problem_dict))\n",
    "print(f\"Solution: {np.round(ag_best.solution)}, Fitness: {ag_best.target.fitness}\")"
   ]
  },
  {
   "cell_type": "markdown",
   "id": "7b64a1f5",
   "metadata": {},
   "source": [
    "## Parte 3\n",
    "Repita os experimentos anteriores considerando agora preservar para a próxima geração 5% do tamanho da população (elitismo). No que essa característica o resultado final?"
   ]
  },
  {
   "cell_type": "code",
   "execution_count": null,
   "id": "c2903268",
   "metadata": {},
   "outputs": [],
   "source": [
    "%pip install numpy==1.26 --quiet"
   ]
  },
  {
   "cell_type": "code",
   "execution_count": null,
   "id": "f17b5318",
   "metadata": {},
   "outputs": [],
   "source": [
    "import numpy as np\n",
    "from mealpy.evolutionary_based.GA import EliteSingleGA\n",
    "\n",
    "elitism = 0.05"
   ]
  },
  {
   "cell_type": "code",
   "execution_count": null,
   "id": "4c9cb72c",
   "metadata": {},
   "outputs": [],
   "source": [
    "model = EliteSingleGA(pop_size=200, epoch=100, pm=0.05, pc=0.7, elitism=elitism)\n",
    "ag_best = (model.solve(problem_dict))\n",
    "print(f\"Solution: {np.round(ag_best.solution)}, Fitness: {ag_best.target.fitness}\")"
   ]
  },
  {
   "cell_type": "code",
   "execution_count": null,
   "id": "baa71568",
   "metadata": {},
   "outputs": [],
   "source": [
    "model = EliteSingleGA(pop_size=150, epoch=75, pm=0.02, pc=0.85, elitism=elitism)\n",
    "ag_best = (model.solve(problem_dict))\n",
    "print(f\"Solution: {np.round(ag_best.solution)}, Fitness: {ag_best.target.fitness}\")"
   ]
  },
  {
   "cell_type": "code",
   "execution_count": null,
   "id": "f858dffd",
   "metadata": {},
   "outputs": [],
   "source": [
    "model = EliteSingleGA(pop_size=300, epoch=150, pm=0.1, pc=0.9, elitism=elitism)\n",
    "ag_best = (model.solve(problem_dict))\n",
    "print(f\"Solution: {np.round(ag_best.solution)}, Fitness: {ag_best.target.fitness}\")"
   ]
  },
  {
   "cell_type": "markdown",
   "id": "32b9a67b",
   "metadata": {},
   "source": [
    "## Parte 4\n",
    "Analise a evolução das soluções ao lingo das gerações por meio de gráficos."
   ]
  },
  {
   "cell_type": "code",
   "execution_count": null,
   "id": "5b8b6821",
   "metadata": {},
   "outputs": [],
   "source": []
  },
  {
   "cell_type": "markdown",
   "id": "03e8b271",
   "metadata": {},
   "source": [
    "## Parte 5\n",
    "Repita cada experimento pelo menos 5 vezes e apresente os resultados estatísticos entre essas 5 execuções."
   ]
  },
  {
   "cell_type": "code",
   "execution_count": null,
   "id": "d9f92aad",
   "metadata": {},
   "outputs": [],
   "source": []
  }
 ],
 "metadata": {
  "kernelspec": {
   "display_name": "Python 3",
   "language": "python",
   "name": "python3"
  },
  "language_info": {
   "codemirror_mode": {
    "name": "ipython",
    "version": 3
   },
   "file_extension": ".py",
   "mimetype": "text/x-python",
   "name": "python",
   "nbconvert_exporter": "python",
   "pygments_lexer": "ipython3",
   "version": "3.11.11"
  }
 },
 "nbformat": 4,
 "nbformat_minor": 5
}
