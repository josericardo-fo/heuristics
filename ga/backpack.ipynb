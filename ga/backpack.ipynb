{
 "cells": [
  {
   "cell_type": "markdown",
   "id": "6e1ff8be",
   "metadata": {},
   "source": [
    "# Algoritmos Genéticos"
   ]
  },
  {
   "cell_type": "code",
   "execution_count": null,
   "id": "94f96ada",
   "metadata": {},
   "outputs": [],
   "source": [
    "%pip install mealpy --quiet"
   ]
  },
  {
   "cell_type": "markdown",
   "id": "cf935f67",
   "metadata": {},
   "source": [
    "## Parte 1\n",
    "Adapte o código pro algoritmo genético para representar a solução em formato binário."
   ]
  },
  {
   "cell_type": "code",
   "execution_count": null,
   "id": "e81d5b77",
   "metadata": {},
   "outputs": [],
   "source": [
    "from mealpy import FloatVar\n",
    "from mealpy.evolutionary_based.GA import BaseGA\n",
    "import numpy as np\n",
    "\n",
    "values = np.array([3, 6, 16, 9, 7, 8, 5, 11, 13, 14])\n",
    "weights = np.array([8, 4, 7, 2, 6, 10, 3, 5, 11, 9])\n",
    "W = 30\n",
    "n = len(values)\n",
    "\n",
    "\n",
    "def ativacao(solution):\n",
    "    x = np.round(solution)\n",
    "    total_values = np.dot(x, values)\n",
    "    total_weights = np.dot(x, weights)\n",
    "\n",
    "    penalty = 100 * max(0, total_weights - W)\n",
    "\n",
    "    return -total_values + penalty\n",
    "\n",
    "\n",
    "problem_dict = {\n",
    "    \"obj_func\": ativacao,\n",
    "    \"bounds\": FloatVar(lb=[0] * n, ub=[1] * n, name=\"delta\"),\n",
    "    \"minmax\": \"min\",\n",
    "    \"save_population\": True,\n",
    "}"
   ]
  },
  {
   "cell_type": "markdown",
   "id": "7ccf272a",
   "metadata": {},
   "source": [
    "## Parte 2\n",
    "Execute o algoritmo e colete as soluções com as configurações com a seleção de indivíduos por torneio."
   ]
  },
  {
   "cell_type": "markdown",
   "id": "379f38db",
   "metadata": {},
   "source": [
    "### Experimento 1: Exploração Inicial"
   ]
  },
  {
   "cell_type": "code",
   "execution_count": null,
   "id": "1b155051",
   "metadata": {},
   "outputs": [],
   "source": [
    "model = BaseGA(pop_size=200, epoch=100, pm=0.05, pc=0.7)\n",
    "ag_best = model.solve(problem_dict)\n",
    "print(f\"Solution: {np.round(ag_best.solution)}, Fitness: {ag_best.target.fitness}\")"
   ]
  },
  {
   "cell_type": "markdown",
   "id": "50cc8550",
   "metadata": {},
   "source": [
    "### Experimento 2: Exploração e Intensificação Equilibrada"
   ]
  },
  {
   "cell_type": "code",
   "execution_count": null,
   "id": "fc51509b",
   "metadata": {},
   "outputs": [],
   "source": [
    "model = BaseGA(pop_size=150, epoch=75, pm=0.02, pc=0.85)\n",
    "ag_best = model.solve(problem_dict)\n",
    "print(f\"Solution: {np.round(ag_best.solution)}, Fitness: {ag_best.target.fitness}\")"
   ]
  },
  {
   "cell_type": "markdown",
   "id": "5cde97d3",
   "metadata": {},
   "source": [
    "### Experimento 3:"
   ]
  },
  {
   "cell_type": "code",
   "execution_count": null,
   "id": "1f923cb0",
   "metadata": {},
   "outputs": [],
   "source": [
    "model = BaseGA(pop_size=300, epoch=150, pm=0.1, pc=0.9)\n",
    "ag_best = model.solve(problem_dict)\n",
    "print(f\"Solution: {np.round(ag_best.solution)}, Fitness: {ag_best.target.fitness}\")"
   ]
  },
  {
   "cell_type": "markdown",
   "id": "7b64a1f5",
   "metadata": {},
   "source": [
    "## Parte 3\n",
    "Repita os experimentos anteriores considerando agora preservar para a próxima geração 5% do tamanho da população (elitismo). No que essa característica o resultado final?"
   ]
  },
  {
   "cell_type": "code",
   "execution_count": null,
   "id": "f17b5318",
   "metadata": {},
   "outputs": [],
   "source": [
    "import numpy as np\n",
    "from mealpy.evolutionary_based.GA import EliteSingleGA\n",
    "\n",
    "elitism = 0.05"
   ]
  },
  {
   "cell_type": "code",
   "execution_count": null,
   "id": "4c9cb72c",
   "metadata": {},
   "outputs": [],
   "source": [
    "model = EliteSingleGA(pop_size=200, epoch=100, pm=0.05, pc=0.7, elitism=elitism)\n",
    "ag_best = model.solve(problem_dict)\n",
    "print(f\"Solution: {np.round(ag_best.solution)}, Fitness: {ag_best.target.fitness}\")"
   ]
  },
  {
   "cell_type": "code",
   "execution_count": null,
   "id": "baa71568",
   "metadata": {},
   "outputs": [],
   "source": [
    "model = EliteSingleGA(pop_size=150, epoch=75, pm=0.02, pc=0.85, elitism=elitism)\n",
    "ag_best = model.solve(problem_dict)\n",
    "print(f\"Solution: {np.round(ag_best.solution)}, Fitness: {ag_best.target.fitness}\")"
   ]
  },
  {
   "cell_type": "code",
   "execution_count": null,
   "id": "f858dffd",
   "metadata": {},
   "outputs": [],
   "source": [
    "model = EliteSingleGA(pop_size=300, epoch=150, pm=0.1, pc=0.9, elitism=elitism)\n",
    "ag_best = model.solve(problem_dict)\n",
    "print(f\"Solution: {np.round(ag_best.solution)}, Fitness: {ag_best.target.fitness}\")"
   ]
  },
  {
   "cell_type": "markdown",
   "id": "32b9a67b",
   "metadata": {},
   "source": [
    "## Parte 4\n",
    "Analise a evolução das soluções ao lingo das gerações por meio de gráficos."
   ]
  },
  {
   "cell_type": "code",
   "execution_count": null,
   "id": "5b8b6821",
   "metadata": {},
   "outputs": [],
   "source": [
    "import matplotlib.pyplot as plt\n",
    "\n",
    "\n",
    "def run_experiment_with_history(\n",
    "    model_class, params, problem_dict, experiment_name=\"Experimento\"\n",
    "):\n",
    "    model = model_class(**params)\n",
    "    best_agent = model.solve(problem_dict)\n",
    "\n",
    "    # Converter os fitness negativos para valores positivos para melhor visualização\n",
    "    # Lembre-se que na função objetivo o sinal foi invertido (minimização)\n",
    "    fitness_history = [-fit for fit in model.history.list_global_best_fit]\n",
    "\n",
    "    print(f\"{experiment_name}:\")\n",
    "    print(f\"Melhor solução: {np.round(best_agent.solution)}\")\n",
    "    print(f\"Melhor fitness: {-best_agent.target.fitness}\")\n",
    "    print(f\"Total de valor: {np.dot(np.round(best_agent.solution), values)}\")\n",
    "    print(f\"Total de peso: {np.dot(np.round(best_agent.solution), weights)}\")\n",
    "    print(\"\\n\")\n",
    "\n",
    "    return model, fitness_history\n",
    "\n",
    "\n",
    "exp1_params = {\"pop_size\": 200, \"epoch\": 100, \"pm\": 0.05, \"pc\": 0.7}\n",
    "exp2_params = {\"pop_size\": 150, \"epoch\": 75, \"pm\": 0.02, \"pc\": 0.85}\n",
    "exp3_params = {\"pop_size\": 300, \"epoch\": 150, \"pm\": 0.1, \"pc\": 0.9}\n",
    "\n",
    "exp1_elite_params = {\n",
    "    \"pop_size\": 200,\n",
    "    \"epoch\": 100,\n",
    "    \"pm\": 0.05,\n",
    "    \"pc\": 0.7,\n",
    "    \"elitism\": elitism,\n",
    "}\n",
    "exp2_elite_params = {\n",
    "    \"pop_size\": 150,\n",
    "    \"epoch\": 75,\n",
    "    \"pm\": 0.02,\n",
    "    \"pc\": 0.85,\n",
    "    \"elitism\": elitism,\n",
    "}\n",
    "exp3_elite_params = {\n",
    "    \"pop_size\": 300,\n",
    "    \"epoch\": 150,\n",
    "    \"pm\": 0.1,\n",
    "    \"pc\": 0.9,\n",
    "    \"elitism\": elitism,\n",
    "}"
   ]
  },
  {
   "cell_type": "markdown",
   "id": "421581a1",
   "metadata": {},
   "source": [
    "Executando experimentos sem elitismo"
   ]
  },
  {
   "cell_type": "code",
   "execution_count": null,
   "id": "07eb0873",
   "metadata": {},
   "outputs": [],
   "source": [
    "_, fit_history1 = run_experiment_with_history(\n",
    "    BaseGA, exp1_params, problem_dict, \"Experimento 1 - Sem Elitismo\"\n",
    ")\n",
    "_, fit_history2 = run_experiment_with_history(\n",
    "    BaseGA, exp2_params, problem_dict, \"Experimento 2 - Sem Elitismo\"\n",
    ")\n",
    "_, fit_history3 = run_experiment_with_history(\n",
    "    BaseGA, exp3_params, problem_dict, \"Experimento 3 - Sem Elitismo\"\n",
    ")"
   ]
  },
  {
   "cell_type": "markdown",
   "id": "43f9bca9",
   "metadata": {},
   "source": [
    "Executando experimentos com elitismo"
   ]
  },
  {
   "cell_type": "code",
   "execution_count": null,
   "id": "a28ebf7c",
   "metadata": {},
   "outputs": [],
   "source": [
    "_, fit_history1_elite = run_experiment_with_history(\n",
    "    EliteSingleGA, exp1_elite_params, problem_dict, \"Experimento 1 - Com Elitismo\"\n",
    ")\n",
    "_, fit_history2_elite = run_experiment_with_history(\n",
    "    EliteSingleGA, exp2_elite_params, problem_dict, \"Experimento 2 - Com Elitismo\"\n",
    ")\n",
    "_, fit_history3_elite = run_experiment_with_history(\n",
    "    EliteSingleGA, exp3_elite_params, problem_dict, \"Experimento 3 - Com Elitismo\"\n",
    ")"
   ]
  },
  {
   "cell_type": "markdown",
   "id": "17642db1",
   "metadata": {},
   "source": [
    "Plotando a evolução das soluções - Comparação Sem Elitismo"
   ]
  },
  {
   "cell_type": "code",
   "execution_count": null,
   "id": "53b210fa",
   "metadata": {},
   "outputs": [],
   "source": [
    "plt.figure(figsize=(12, 6))\n",
    "plt.plot(fit_history1, label=\"Experimento 1\", color=\"blue\")\n",
    "plt.plot(fit_history2, label=\"Experimento 2\", color=\"green\")\n",
    "plt.plot(fit_history3, label=\"Experimento 3\", color=\"red\")\n",
    "plt.xlabel(\"Geração\")\n",
    "plt.ylabel(\"Fitness (Valor da Mochila)\")\n",
    "plt.title(\"Evolução do Fitness ao Longo das Gerações - Sem Elitismo\")\n",
    "plt.legend()\n",
    "plt.grid(True)\n",
    "plt.show()"
   ]
  },
  {
   "cell_type": "markdown",
   "id": "fda8b033",
   "metadata": {},
   "source": [
    "Comparação Com Elitismo"
   ]
  },
  {
   "cell_type": "code",
   "execution_count": null,
   "id": "0f31fc73",
   "metadata": {},
   "outputs": [],
   "source": [
    "plt.figure(figsize=(12, 6))\n",
    "plt.plot(fit_history1_elite, label=\"Experimento 1\", color=\"blue\")\n",
    "plt.plot(fit_history2_elite, label=\"Experimento 2\", color=\"green\")\n",
    "plt.plot(fit_history3_elite, label=\"Experimento 3\", color=\"red\")\n",
    "plt.xlabel(\"Geração\")\n",
    "plt.ylabel(\"Fitness (Valor da Mochila)\")\n",
    "plt.title(\"Evolução do Fitness ao Longo das Gerações - Com Elitismo\")\n",
    "plt.legend()\n",
    "plt.grid(True)\n",
    "plt.show()"
   ]
  },
  {
   "cell_type": "markdown",
   "id": "aee7a667",
   "metadata": {},
   "source": [
    "Comparando a evolução com e sem elitismo para cada experimento"
   ]
  },
  {
   "cell_type": "code",
   "execution_count": null,
   "id": "f74cda0e",
   "metadata": {},
   "outputs": [],
   "source": [
    "plt.figure(figsize=(16, 12))\n",
    "\n",
    "plt.subplot(3, 1, 1)\n",
    "plt.plot(fit_history1, label=\"Sem Elitismo\", color=\"blue\")\n",
    "plt.plot(fit_history1_elite, label=\"Com Elitismo\", color=\"blue\", linestyle=\"--\")\n",
    "plt.title(\"Experimento 1: Evolução com e sem Elitismo\")\n",
    "plt.ylabel(\"Fitness\")\n",
    "plt.legend()\n",
    "plt.grid(True)\n",
    "\n",
    "plt.subplot(3, 1, 2)\n",
    "plt.plot(fit_history2, label=\"Sem Elitismo\", color=\"green\")\n",
    "plt.plot(fit_history2_elite, label=\"Com Elitismo\", color=\"green\", linestyle=\"--\")\n",
    "plt.title(\"Experimento 2: Evolução com e sem Elitismo\")\n",
    "plt.ylabel(\"Fitness\")\n",
    "plt.legend()\n",
    "plt.grid(True)\n",
    "\n",
    "plt.subplot(3, 1, 3)\n",
    "plt.plot(fit_history3, label=\"Sem Elitismo\", color=\"red\")\n",
    "plt.plot(fit_history3_elite, label=\"Com Elitismo\", color=\"red\", linestyle=\"--\")\n",
    "plt.title(\"Experimento 3: Evolução com e sem Elitismo\")\n",
    "plt.xlabel(\"Geração\")\n",
    "plt.ylabel(\"Fitness\")\n",
    "plt.legend()\n",
    "plt.grid(True)\n",
    "\n",
    "plt.tight_layout()\n",
    "plt.show()"
   ]
  },
  {
   "cell_type": "markdown",
   "id": "03e8b271",
   "metadata": {},
   "source": [
    "## Parte 5\n",
    "Repita cada experimento pelo menos 5 vezes e apresente os resultados estatísticos entre essas 5 execuções."
   ]
  },
  {
   "cell_type": "code",
   "execution_count": null,
   "id": "d9f92aad",
   "metadata": {},
   "outputs": [],
   "source": [
    "import pandas as pd\n",
    "from time import time\n",
    "\n",
    "\n",
    "def run_multiple_experiments(model_class, params, problem_dict, num_runs=5):\n",
    "    \"\"\"Executa um experimento múltiplas vezes e retorna estatísticas\"\"\"\n",
    "    fitness_values = []\n",
    "    solution_values = []\n",
    "    solution_weights = []\n",
    "    execution_times = []\n",
    "    history_data = []\n",
    "\n",
    "    for i in range(num_runs):\n",
    "        start_time = time()\n",
    "        model = model_class(**params)\n",
    "        best_agent = model.solve(problem_dict)\n",
    "        end_time = time()\n",
    "\n",
    "        # Lembre-se que na função objetivo o sinal foi invertido (minimização)\n",
    "        fitness = -best_agent.target.fitness\n",
    "        solution = np.round(best_agent.solution)\n",
    "        total_value = np.dot(solution, values)\n",
    "        total_weight = np.dot(solution, weights)\n",
    "\n",
    "        fitness_values.append(fitness)\n",
    "        solution_values.append(total_value)\n",
    "        solution_weights.append(total_weight)\n",
    "        execution_times.append(end_time - start_time)\n",
    "        history_data.append([-fit for fit in model.history.list_global_best_fit])\n",
    "\n",
    "    # Calcular estatísticas\n",
    "    stats = {\n",
    "        \"média_fitness\": np.mean(fitness_values),\n",
    "        \"desvio_padrão_fitness\": np.std(fitness_values),\n",
    "        \"melhor_fitness\": np.max(fitness_values),\n",
    "        \"pior_fitness\": np.min(fitness_values),\n",
    "        \"média_valor\": np.mean(solution_values),\n",
    "        \"desvio_padrão_valor\": np.std(solution_values),\n",
    "        \"média_peso\": np.mean(solution_weights),\n",
    "        \"desvio_padrão_peso\": np.std(solution_weights),\n",
    "        \"tempo_médio\": np.mean(execution_times),\n",
    "        \"fitness_values\": fitness_values,\n",
    "        \"history_data\": history_data,\n",
    "    }\n",
    "\n",
    "    return stats"
   ]
  },
  {
   "cell_type": "markdown",
   "id": "1c5768cd",
   "metadata": {},
   "source": [
    "Execução de múltiplos experimentos sem elitismo"
   ]
  },
  {
   "cell_type": "code",
   "execution_count": null,
   "id": "aa0144aa",
   "metadata": {},
   "outputs": [],
   "source": [
    "print(\"Executando múltiplos experimentos sem elitismo...\")\n",
    "stats_exp1 = run_multiple_experiments(BaseGA, exp1_params, problem_dict)\n",
    "stats_exp2 = run_multiple_experiments(BaseGA, exp2_params, problem_dict)\n",
    "stats_exp3 = run_multiple_experiments(BaseGA, exp3_params, problem_dict)"
   ]
  },
  {
   "cell_type": "markdown",
   "id": "9cce8dae",
   "metadata": {},
   "source": [
    "Execução de múltiplos experimentos com elitismo"
   ]
  },
  {
   "cell_type": "code",
   "execution_count": null,
   "id": "e176f5d6",
   "metadata": {},
   "outputs": [],
   "source": [
    "print(\"Executando múltiplos experimentos com elitismo...\")\n",
    "stats_exp1_elite = run_multiple_experiments(\n",
    "    EliteSingleGA, exp1_elite_params, problem_dict\n",
    ")\n",
    "stats_exp2_elite = run_multiple_experiments(\n",
    "    EliteSingleGA, exp2_elite_params, problem_dict\n",
    ")\n",
    "stats_exp3_elite = run_multiple_experiments(\n",
    "    EliteSingleGA, exp3_elite_params, problem_dict\n",
    ")"
   ]
  },
  {
   "cell_type": "markdown",
   "id": "b23b0266",
   "metadata": {},
   "source": [
    "Criar tabela comparativa"
   ]
  },
  {
   "cell_type": "code",
   "execution_count": null,
   "id": "c5eefe4b",
   "metadata": {},
   "outputs": [],
   "source": [
    "comparison_data = [\n",
    "    {\n",
    "        \"Experimento\": \"Exp 1 - Sem Elitismo\",\n",
    "        **{\n",
    "            k: v\n",
    "            for k, v in stats_exp1.items()\n",
    "            if k not in [\"fitness_values\", \"history_data\"]\n",
    "        },\n",
    "    },\n",
    "    {\n",
    "        \"Experimento\": \"Exp 2 - Sem Elitismo\",\n",
    "        **{\n",
    "            k: v\n",
    "            for k, v in stats_exp2.items()\n",
    "            if k not in [\"fitness_values\", \"history_data\"]\n",
    "        },\n",
    "    },\n",
    "    {\n",
    "        \"Experimento\": \"Exp 3 - Sem Elitismo\",\n",
    "        **{\n",
    "            k: v\n",
    "            for k, v in stats_exp3.items()\n",
    "            if k not in [\"fitness_values\", \"history_data\"]\n",
    "        },\n",
    "    },\n",
    "    {\n",
    "        \"Experimento\": \"Exp 1 - Com Elitismo\",\n",
    "        **{\n",
    "            k: v\n",
    "            for k, v in stats_exp1_elite.items()\n",
    "            if k not in [\"fitness_values\", \"history_data\"]\n",
    "        },\n",
    "    },\n",
    "    {\n",
    "        \"Experimento\": \"Exp 2 - Com Elitismo\",\n",
    "        **{\n",
    "            k: v\n",
    "            for k, v in stats_exp2_elite.items()\n",
    "            if k not in [\"fitness_values\", \"history_data\"]\n",
    "        },\n",
    "    },\n",
    "    {\n",
    "        \"Experimento\": \"Exp 3 - Com Elitismo\",\n",
    "        **{\n",
    "            k: v\n",
    "            for k, v in stats_exp3_elite.items()\n",
    "            if k not in [\"fitness_values\", \"history_data\"]\n",
    "        },\n",
    "    },\n",
    "]\n",
    "\n",
    "df_comparison = pd.DataFrame(comparison_data)\n",
    "df_comparison"
   ]
  },
  {
   "cell_type": "markdown",
   "id": "dad72aaa",
   "metadata": {},
   "source": [
    "Plotar gráfico de barras comparando o fitness médio"
   ]
  },
  {
   "cell_type": "code",
   "execution_count": null,
   "id": "9747a134",
   "metadata": {},
   "outputs": [],
   "source": [
    "plt.figure(figsize=(12, 6))\n",
    "plt.bar(\n",
    "    [\"Exp 1\", \"Exp 2\", \"Exp 3\"],\n",
    "    [\n",
    "        stats_exp1[\"média_fitness\"],\n",
    "        stats_exp2[\"média_fitness\"],\n",
    "        stats_exp3[\"média_fitness\"],\n",
    "    ],\n",
    "    alpha=0.7,\n",
    "    label=\"Sem Elitismo\",\n",
    ")\n",
    "plt.bar(\n",
    "    [\"Exp 1 (Elite)\", \"Exp 2 (Elite)\", \"Exp 3 (Elite)\"],\n",
    "    [\n",
    "        stats_exp1_elite[\"média_fitness\"],\n",
    "        stats_exp2_elite[\"média_fitness\"],\n",
    "        stats_exp3_elite[\"média_fitness\"],\n",
    "    ],\n",
    "    alpha=0.7,\n",
    "    label=\"Com Elitismo\",\n",
    ")\n",
    "plt.ylabel(\"Fitness Médio\")\n",
    "plt.title(\"Comparação do Fitness Médio entre Experimentos\")\n",
    "plt.legend()\n",
    "plt.grid(axis=\"y\")\n",
    "plt.show()"
   ]
  },
  {
   "cell_type": "markdown",
   "id": "fadc1d63",
   "metadata": {},
   "source": [
    "Plotar curvas de convergência médias"
   ]
  },
  {
   "cell_type": "code",
   "execution_count": null,
   "id": "539fddf7",
   "metadata": {},
   "outputs": [],
   "source": [
    "plt.figure(figsize=(14, 8))\n",
    "\n",
    "\n",
    "def calc_avg_convergence(history_data):\n",
    "    # Encontrar o menor comprimento entre todos os históricos\n",
    "    min_length = min(len(hist) for hist in history_data)\n",
    "    # Truncar todos os históricos para o mesmo comprimento\n",
    "    truncated_data = [hist[:min_length] for hist in history_data]\n",
    "    # Calcular a média para cada geração\n",
    "    return np.mean(truncated_data, axis=0)\n",
    "\n",
    "\n",
    "avg_conv_exp1 = calc_avg_convergence(stats_exp1[\"history_data\"])\n",
    "avg_conv_exp2 = calc_avg_convergence(stats_exp2[\"history_data\"])\n",
    "avg_conv_exp3 = calc_avg_convergence(stats_exp3[\"history_data\"])\n",
    "avg_conv_exp1_elite = calc_avg_convergence(stats_exp1_elite[\"history_data\"])\n",
    "avg_conv_exp2_elite = calc_avg_convergence(stats_exp2_elite[\"history_data\"])\n",
    "avg_conv_exp3_elite = calc_avg_convergence(stats_exp3_elite[\"history_data\"])\n",
    "\n",
    "plt.plot(avg_conv_exp1, label=\"Exp 1 - Sem Elitismo\", color=\"blue\")\n",
    "plt.plot(avg_conv_exp2, label=\"Exp 2 - Sem Elitismo\", color=\"green\")\n",
    "plt.plot(avg_conv_exp3, label=\"Exp 3 - Sem Elitismo\", color=\"red\")\n",
    "plt.plot(\n",
    "    avg_conv_exp1_elite, label=\"Exp 1 - Com Elitismo\", color=\"blue\", linestyle=\"--\"\n",
    ")\n",
    "plt.plot(\n",
    "    avg_conv_exp2_elite, label=\"Exp 2 - Com Elitismo\", color=\"green\", linestyle=\"--\"\n",
    ")\n",
    "plt.plot(avg_conv_exp3_elite, label=\"Exp 3 - Com Elitismo\", color=\"red\", linestyle=\"--\")\n",
    "\n",
    "plt.xlabel(\"Geração\")\n",
    "plt.ylabel(\"Fitness Médio\")\n",
    "plt.title(\"Curvas de Convergência Médias (5 execuções cada)\")\n",
    "plt.legend()\n",
    "plt.grid(True)\n",
    "plt.show()"
   ]
  }
 ],
 "metadata": {
  "kernelspec": {
   "display_name": "Python 3",
   "language": "python",
   "name": "python3"
  },
  "language_info": {
   "codemirror_mode": {
    "name": "ipython",
    "version": 3
   },
   "file_extension": ".py",
   "mimetype": "text/x-python",
   "name": "python",
   "nbconvert_exporter": "python",
   "pygments_lexer": "ipython3",
   "version": "3.11.11"
  }
 },
 "nbformat": 4,
 "nbformat_minor": 5
}
