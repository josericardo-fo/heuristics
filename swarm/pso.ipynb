{
 "cells": [
  {
   "cell_type": "markdown",
   "id": "af35cb1c",
   "metadata": {},
   "source": [
    "1. Intervalo das variáveis de [-100,100]\n",
    "2. Quantidade de variáveis: 30\n",
    "3. 10 variáveis\n",
    "4. Coeficiente Cognitivo(C1): 2.0\n",
    "5. Coeficiente Social(C2): 2.0\n",
    "6. Peso de Inércia(W): Decréscimo Linear 0.9 a 0.4\n",
    "7. a) Configuração 1:\n",
    "   1. Tamanho da população: 30\n",
    "   2. Numero de iterações: 500\n",
    "8. b) Configuração 2:\n",
    "   1. Tamanho da população: 50\n",
    "   2. Numero de iterações: 1000\n",
    "9. c) Configuração 3:\n",
    "   1. Tamanho da população: 100\n",
    "   2. Numero de iterações: 2000\n",
    "\n",
    "Primeira Função: High Conditionned Elliptic Function\n",
    "\n",
    "Segunda Função: Shifted and Rotated Weierstrass Function"
   ]
  }
 ],
 "metadata": {
  "language_info": {
   "name": "python"
  }
 },
 "nbformat": 4,
 "nbformat_minor": 5
}
